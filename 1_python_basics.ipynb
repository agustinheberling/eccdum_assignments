{
  "cells": [
    {
      "cell_type": "markdown",
      "metadata": {
        "id": "view-in-github",
        "colab_type": "text"
      },
      "source": [
        "<a href=\"https://colab.research.google.com/github/agustinheberling/eccdum_assignments/blob/main/1_python_basics.ipynb\" target=\"_parent\"><img src=\"https://colab.research.google.com/assets/colab-badge.svg\" alt=\"Open In Colab\"/></a>"
      ]
    },
    {
      "cell_type": "markdown",
      "metadata": {
        "id": "OiA8oNpZNfr-"
      },
      "source": [
        "# Notebook Overview\n",
        "\n",
        "In this notebook, you’ll explore essential Python concepts such as numbers, strings, lists, loops, and functions to strengthen your familiarity with them. Each exercise includes a description of the task, followed by a space where you will implement a solution.\n",
        "\n",
        "Once you’ve completed your implementation, the function will be automatically tested to ensure it works correctly. If successful, additional examples will be executed to further validate your solution."
      ]
    },
    {
      "cell_type": "markdown",
      "metadata": {
        "id": "RPOba-3kNfsB"
      },
      "source": [
        "## \t1.\tRemove Vowels Function:\n",
        "Implement a function that removes all vowels from a given string.\n",
        "Example: \"hello\" → \"hll\""
      ]
    },
    {
      "cell_type": "code",
      "execution_count": null,
      "metadata": {
        "vscode": {
          "languageId": "plaintext"
        },
        "id": "900Iid89NfsB"
      },
      "outputs": [],
      "source": [
        "\n",
        "def remove_vowels(text: str) -> str:\n",
        "    \"\"\"\n",
        "    This function removes all vowels from strings\n",
        "    Example: \"hello\" -> \"hll\"\n",
        "    \"\"\"\n",
        "\n",
        "    # Write your code here\n",
        "    resultado = \"\"\n",
        "    for letras in text:\n",
        "      if letras == 'a' or letras == 'e' or letras == 'i' or letras == 'o' or letras == 'u' or letras == 'A' or letras == 'E' or letras == 'I' or letras == 'O' or letras == 'U' or letras == 'á' or letras == 'é' or letras == 'í' or letras == 'ó' or letras == 'ú':\n",
        "        pass\n",
        "        # si quiero que ademas elimine los espacios debo agregarle or letras == ' '\n",
        "      else:\n",
        "        resultado = resultado + letras\n",
        "    return(resultado)"
      ]
    },
    {
      "cell_type": "code",
      "execution_count": null,
      "metadata": {
        "vscode": {
          "languageId": "plaintext"
        },
        "colab": {
          "base_uri": "https://localhost:8080/"
        },
        "id": "NZxdZNSLNfsC",
        "outputId": "2c429001-088f-4728-d2d1-7b89f5319448"
      },
      "outputs": [
        {
          "output_type": "stream",
          "name": "stdout",
          "text": [
            "st f n bn d\n"
          ]
        }
      ],
      "source": [
        "\n",
        "assert remove_vowels(\"hola\") == \"hl\"\n",
        "answer_1  = remove_vowels(\"Este fue un buen día\")\n",
        "print(answer_1)"
      ]
    },
    {
      "cell_type": "markdown",
      "metadata": {
        "id": "Hfw--KFTNfsD"
      },
      "source": [
        "# 2.\tSum List of Floats Function:\n",
        "Write a function that computes the element-wise sum of two lists of floats.\n",
        "Example: [1, 2, 3] + [4, 5, -2.3] → [5, 7, 0.7]"
      ]
    },
    {
      "cell_type": "code",
      "execution_count": null,
      "metadata": {
        "vscode": {
          "languageId": "plaintext"
        },
        "id": "9lEfiOHRNfsD"
      },
      "outputs": [],
      "source": [
        "def sum_list_of_floats(a: list, b:list) -> list:\n",
        "    \"\"\"\n",
        "    Returns the coordinate wise sum of a and b.\n",
        "    \"\"\"\n",
        "\n",
        "    # Write your code here\n",
        "    suma = []\n",
        "    for i in range(len(a)):\n",
        "      suma.append(a[i] + b[i])\n",
        "    return(suma)"
      ]
    },
    {
      "cell_type": "code",
      "source": [
        "import numpy as np"
      ],
      "metadata": {
        "id": "j9os5xJOOVF2"
      },
      "execution_count": null,
      "outputs": []
    },
    {
      "cell_type": "code",
      "execution_count": null,
      "metadata": {
        "vscode": {
          "languageId": "plaintext"
        },
        "colab": {
          "base_uri": "https://localhost:8080/"
        },
        "id": "YOtcrPi6NfsD",
        "outputId": "6215fe3e-f9bb-4be3-e9d3-3d1590e51bc7"
      },
      "outputs": [
        {
          "output_type": "stream",
          "name": "stdout",
          "text": [
            "[1, -1]\n"
          ]
        }
      ],
      "source": [
        "assert np.allclose(\n",
        "    sum_list_of_floats(\n",
        "        [1, 2, 3], [4, 5, -2.3]),\n",
        "    [5, 7, 0.7]\n",
        ")\n",
        "answer_2 = sum_list_of_floats([0, 0], [1, -1])\n",
        "print(answer_2)"
      ]
    }
  ],
  "metadata": {
    "language_info": {
      "name": "python"
    },
    "colab": {
      "provenance": [],
      "include_colab_link": true
    },
    "kernelspec": {
      "name": "python3",
      "display_name": "Python 3"
    }
  },
  "nbformat": 4,
  "nbformat_minor": 0
}